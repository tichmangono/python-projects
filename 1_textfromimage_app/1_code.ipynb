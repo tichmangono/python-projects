{
 "cells": [
  {
   "cell_type": "markdown",
   "metadata": {},
   "source": [
    "#=============================================================\n",
    "# Optical Character Recognition - for text in image \n",
    "#============================================================="
   ]
  },
  {
   "cell_type": "code",
   "execution_count": 2,
   "metadata": {},
   "outputs": [],
   "source": [
    "# import libraries\n",
    "import cv2\n",
    "import pytesseract as tess\n",
    "tess.pytesseract.tesseract_cmd = r'C:\\\\Program Files\\\\Tesseract-OCR\\\\tesseract.exe'\n",
    "#from https://towardsdatascience.com/read-text-from-image-with-one-line-of-python-code-c22ede074cac"
   ]
  },
  {
   "cell_type": "code",
   "execution_count": 3,
   "metadata": {},
   "outputs": [
    {
     "name": "stdout",
     "output_type": "stream",
     "text": [
      "((( BREAKING NEWS )))\n",
      "\f",
      "\n"
     ]
    }
   ],
   "source": [
    "# read breaking\n",
    "img = cv2.imread(\"breaking.png\")\n",
    "text = tess.image_to_string(img)\n",
    "print(text)\n",
    "#print(text.strip(\"(((\").strip(\")))\"))"
   ]
  },
  {
   "cell_type": "code",
   "execution_count": 4,
   "metadata": {},
   "outputs": [
    {
     "name": "stdout",
     "output_type": "stream",
     "text": [
      "IS BITCOIN\n",
      "GOING TO\n",
      "$20.000\n",
      "BY CHRISTMAS?\n",
      "\n",
      " \n",
      "\f",
      "\n"
     ]
    }
   ],
   "source": [
    "# read bitcoin\n",
    "img = cv2.imread(\"bitcoin.jpeg\")\n",
    "text = tess.image_to_string(img)\n",
    "print(text)"
   ]
  },
  {
   "cell_type": "code",
   "execution_count": 5,
   "metadata": {},
   "outputs": [
    {
     "name": "stdout",
     "output_type": "stream",
     "text": [
      "Hello (234%\n",
      "\f",
      "\n"
     ]
    }
   ],
   "source": [
    "# read bitcoin\n",
    "img = cv2.imread(\"hello.jpg\")\n",
    "text = tess.image_to_string(img)\n",
    "print(text)"
   ]
  },
  {
   "cell_type": "code",
   "execution_count": 46,
   "metadata": {},
   "outputs": [],
   "source": [
    "%matplotlib inline"
   ]
  },
  {
   "cell_type": "code",
   "execution_count": 6,
   "metadata": {},
   "outputs": [],
   "source": [
    "cv2.imshow(\"hello\", img)"
   ]
  },
  {
   "cell_type": "code",
   "execution_count": 36,
   "metadata": {},
   "outputs": [
    {
     "name": "stdout",
     "output_type": "stream",
     "text": [
      "I 347 278 350 304 0\n",
      "S 354 277 371 304 0\n",
      "B 383 278 401 304 0\n",
      "I 405 278 431 304 0\n",
      "T 423 277 442 304 0\n",
      "C 431 277 454 304 0\n",
      "O 456 277 482 304 0\n",
      "I 486 278 489 304 0\n",
      "N 494 278 516 304 0\n",
      "G 345 233 369 260 0\n",
      "O 372 233 399 260 0\n",
      "I 402 234 406 259 0\n",
      "N 411 234 433 259 0\n",
      "G 436 233 459 260 0\n",
      "T 471 234 491 259 0\n",
      "O 492 233 518 260 0\n",
      "$ 372 186 388 217 0\n",
      "2 390 189 407 215 0\n",
      "0 409 189 426 215 0\n",
      ". 429 189 434 194 0\n",
      "0 437 189 454 215 0\n",
      "0 456 189 473 215 0\n",
      "0 475 189 492 215 0\n",
      "B 305 145 323 170 0\n",
      "Y 324 145 345 170 0\n",
      "C 354 144 377 171 0\n",
      "H 380 145 400 170 0\n",
      "R 405 144 422 170 0\n",
      "I 426 145 429 170 0\n",
      "S 433 144 449 171 0\n",
      "T 450 145 470 170 0\n",
      "M 473 145 499 170 0\n",
      "A 502 145 526 170 0\n",
      "S 517 144 536 171 0\n",
      "? 527 144 560 171 0\n",
      "~ 88 35 266 309 0\n",
      "\n"
     ]
    }
   ],
   "source": [
    "print(tess.image_to_boxes(cv2.imread(\"bitcoin.jpeg\"))) "
   ]
  },
  {
   "cell_type": "code",
   "execution_count": 37,
   "metadata": {},
   "outputs": [],
   "source": [
    "hocr = pytesseract.image_to_pdf_or_hocr('bitcoin.jpeg', extension='hocr')"
   ]
  },
  {
   "cell_type": "code",
   "execution_count": 41,
   "metadata": {},
   "outputs": [
    {
     "data": {
      "text/plain": [
       "b'<?xml version=\"1.0\" encoding=\"UTF-8\"?>\\n<!DOCTYPE html PUBLIC \"-//W3C//DTD XHTML 1.0 Transitional//EN\"\\n    \"http://www.w3.org/TR/xhtml1/DTD/xhtml1-transitional.dtd\">\\n<html xmlns=\"http://www.w3.org/1999/xhtml\" xml:lang=\"en\" lang=\"en\">\\n <head>\\n  <title></title>\\n  <meta http-equiv=\"Content-Type\" content=\"text/html;charset=utf-8\"/>\\n  <meta name=\\'ocr-system\\' content=\\'tesseract v5.0.0-alpha.20200328\\' />\\n  <meta name=\\'ocr-capabilities\\' content=\\'ocr_page ocr_carea ocr_par ocr_line ocrx_word ocrp_wconf\\'/>\\n </head>\\n <body>\\n  <div class=\\'ocr_page\\' id=\\'page_1\\' title=\\'image \"C:\\\\Users\\\\Tich Mangono\\\\Desktop\\\\Github Folders\\\\python-projects\\\\1_ocr_app\\\\bitcoin.jpeg\"; bbox 0 0 630 397; ppageno 0\\'>\\n   <div class=\\'ocr_carea\\' id=\\'block_1_1\\' title=\"bbox 305 93 560 253\">\\n    <p class=\\'ocr_par\\' id=\\'par_1_1\\' lang=\\'eng\\' title=\"bbox 305 93 560 253\">\\n     <span class=\\'ocr_line\\' id=\\'line_1_1\\' title=\"bbox 347 93 516 120; baseline 0 -1; x_size 35.365078; x_descenders 8.8412695; x_ascenders 8.8412695\">\\n      <span class=\\'ocrx_word\\' id=\\'word_1_1\\' title=\\'bbox 347 93 371 120; x_wconf 93\\'>IS</span>\\n      <span class=\\'ocrx_word\\' id=\\'word_1_2\\' title=\\'bbox 383 93 516 120; x_wconf 92\\'>BITCOIN</span>\\n     </span>\\n     <span class=\\'ocr_line\\' id=\\'line_1_2\\' title=\"bbox 345 137 518 164; baseline -0.006 0; x_size 35.365078; x_descenders 8.8412695; x_ascenders 8.8412695\">\\n      <span class=\\'ocrx_word\\' id=\\'word_1_3\\' title=\\'bbox 345 137 459 164; x_wconf 96\\'>GOING</span>\\n      <span class=\\'ocrx_word\\' id=\\'word_1_4\\' title=\\'bbox 471 137 518 164; x_wconf 96\\'>TO</span>\\n     </span>\\n     <span class=\\'ocr_line\\' id=\\'line_1_3\\' title=\"bbox 372 180 492 211; baseline -0.025 0; x_size 35.365078; x_descenders 8.8412695; x_ascenders 8.8412695\">\\n      <span class=\\'ocrx_word\\' id=\\'word_1_5\\' title=\\'bbox 372 180 492 211; x_wconf 92\\'>$20.000</span>\\n     </span>\\n     <span class=\\'ocr_line\\' id=\\'line_1_4\\' title=\"bbox 305 226 560 253; baseline 0.004 -1; x_size 35.365078; x_descenders 8.8412695; x_ascenders 8.8412695\">\\n      <span class=\\'ocrx_word\\' id=\\'word_1_6\\' title=\\'bbox 305 227 345 252; x_wconf 96\\'>BY</span>\\n      <span class=\\'ocrx_word\\' id=\\'word_1_7\\' title=\\'bbox 354 226 560 253; x_wconf 96\\'>CHRISTMAS?</span>\\n     </span>\\n    </p>\\n   </div>\\n   <div class=\\'ocr_carea\\' id=\\'block_1_2\\' title=\"bbox 88 88 266 362\">\\n    <p class=\\'ocr_par\\' id=\\'par_1_2\\' lang=\\'eng\\' title=\"bbox 88 88 266 362\">\\n     <span class=\\'ocr_line\\' id=\\'line_1_5\\' title=\"bbox 88 88 266 362; baseline 0 35; x_size 413.33334; x_descenders 103.33334; x_ascenders 103.33334\">\\n      <span class=\\'ocrx_word\\' id=\\'word_1_8\\' title=\\'bbox 88 88 266 362; x_wconf 95\\'> </span>\\n     </span>\\n    </p>\\n   </div>\\n  </div>\\n </body>\\n</html>\\n'"
      ]
     },
     "execution_count": 41,
     "metadata": {},
     "output_type": "execute_result"
    }
   ],
   "source": [
    "hocr"
   ]
  },
  {
   "cell_type": "code",
   "execution_count": null,
   "metadata": {},
   "outputs": [],
   "source": []
  }
 ],
 "metadata": {
  "kernelspec": {
   "display_name": "Python 3",
   "language": "python",
   "name": "python3"
  },
  "language_info": {
   "codemirror_mode": {
    "name": "ipython",
    "version": 3
   },
   "file_extension": ".py",
   "mimetype": "text/x-python",
   "name": "python",
   "nbconvert_exporter": "python",
   "pygments_lexer": "ipython3",
   "version": "3.7.3"
  }
 },
 "nbformat": 4,
 "nbformat_minor": 4
}
